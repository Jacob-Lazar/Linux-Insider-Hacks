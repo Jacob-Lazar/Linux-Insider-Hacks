{
 "cells": [
  {
   "cell_type": "markdown",
   "metadata": {
    "jp-MarkdownHeadingCollapsed": true
   },
   "source": [
    "### <b>What is a Virtual Environment?"
   ]
  },
  {
   "cell_type": "markdown",
   "metadata": {},
   "source": [
    "A virtual environment in Python is an isolated workspace that has its own set of packages and Python version¹²³. This allows you to work on different projects with different dependencies without them interfering with each other¹²³.\n",
    "\n",
    "Here are some key points about Python virtual environments:\n",
    "\n",
    "- They're used to contain a specific Python interpreter, software libraries, and binaries needed to support a project¹²³.\n",
    "- They're isolated from software in other virtual environments and Python interpreters and libraries installed in the operating system¹²³.\n",
    "- Common installation tools such as pip will install Python packages into a virtual environment without needing to be told to do so explicitly¹²³.\n",
    "- They're contained in a directory, usually named `venv` or `.venv` in the project directory¹²³.\n",
    "- They're not checked into source control systems such as Git¹²³.\n",
    "- They're considered disposable – it should be simple to delete and recreate them from scratch¹²³.\n",
    "- They're not considered movable or copyable – you just recreate the same environment in the target location¹²³.\n",
    "\n",
    "When you activate a virtual environment for your project, your project becomes its own self-contained application, independent of the system installed Python and its modules². Your new virtual environment has its own pip to install libraries, its own libraries folder, where new libraries are added, and its own Python interpreter for the Python version you used to activate the environment².\n",
    "\n",
    "With this new environment, your application becomes self-contained and you get some benefits such as:\n",
    "\n",
    "- Your development environment is contained within your project, becomes isolated, and does not interfere with your system installed Python or other virtual environments².\n",
    "- You can create a new virtual environment for multiple Python versions².\n",
    "- You are able to download packages into your project without admin privileges².\n",
    "- You can easily package your application and share with other developers to replicate².\n",
    "- You can easily create a list of dependencies and sub dependencies in a file, for your project, which makes it easy for other developers to replicate and install all the dependencies used within your environment².\n",
    "\n",
    "(1) venv — Creation of virtual environments — Python 3.12.0 documentation. https://docs.python.org/3/library/venv.html.  \n",
    "(2) How to Set Up a Virtual Environment in Python – And Why It's Useful. https://www.freecodecamp.org/news/how-to-setup-virtual-environments-in-python/.  \n",
    "(3) Virtualenv and venv: Python virtual environments explained. https://www.infoworld.com/article/3239675/virtualenv-and-venv-python-virtual-environments-explained.html."
   ]
  },
  {
   "cell_type": "markdown",
   "metadata": {
    "jp-MarkdownHeadingCollapsed": true
   },
   "source": [
    "### <b>How will my project know which python to use!?"
   ]
  },
  {
   "cell_type": "markdown",
   "metadata": {},
   "source": [
    "When you run a Python script, it uses the Python interpreter that’s active in your current environment. If you’re using a virtual environment (like with Conda), the Python version of that environment will be used.\n",
    "\n",
    ">Here’s how it works:\n",
    ">>1. When you create a new environment with a specific Python version, that version of Python is installed in the environment.\n",
    ">>2. When you “activate” the environment, you’re telling your system to use the Python interpreter and packages in that environment.\n",
    ">>3. Any Python scripts you run while the environment is active will use that environment’s Python interpreter.\n",
    "\n",
    "So, if you have a project that needs Python 3.12, you can create a new environment with Python 3.12, activate the environment, and then run your project. Your project will use Python 3.12."
   ]
  },
  {
   "cell_type": "markdown",
   "metadata": {
    "jp-MarkdownHeadingCollapsed": true
   },
   "source": [
    "### <b> The (base) environment"
   ]
  },
  {
   "cell_type": "markdown",
   "metadata": {},
   "source": [
    "The “base” environment is the default environment that comes with your Anaconda installation. When you start the Anaconda Prompt or your terminal, you are in this base environment.\n",
    "\n",
    "It’s generally recommended not to install or update packages in the base environment, but rather to create new environments for your projects. This helps to avoid conflicts between package versions and ensures reproducibility of your projects."
   ]
  },
  {
   "cell_type": "markdown",
   "metadata": {
    "jp-MarkdownHeadingCollapsed": true
   },
   "source": [
    "### <b>Creating a \"NEW\" environment"
   ]
  },
  {
   "cell_type": "markdown",
   "metadata": {},
   "source": [
    "If you want to create a new environment, you can use the following command:"
   ]
  },
  {
   "cell_type": "markdown",
   "metadata": {},
   "source": [
    "`conda create --name myenv python=3.12`"
   ]
  },
  {
   "cell_type": "markdown",
   "metadata": {},
   "source": [
    "**`conda create --name p12 python=3.12`**  \n",
    "Collecting package metadata (current_repodata.json): done  \n",
    "Solving environment: done\n",
    "\n",
    "**Package Plan**  \n",
    "\n",
    "  environment location: /home/snl-f/mambaforge/envs/p12\n",
    "\n",
    "  added / updated specs:\n",
    "    - python=3.12\n",
    "\n",
    "\n",
    "The following packages will be downloaded:\n",
    "\n",
    "    package                    |            build\n",
    "    ---------------------------|-----------------\n",
    "    libgomp-13.2.0             |       h807b86a_3         412 KB  conda-forge\n",
    "    pip-23.3.1                 |     pyhd8ed1ab_0         1.3 MB  conda-forge\n",
    "    python-3.12.0              |hab00c5b_0_cpython        30.6 MB  conda-forge\n",
    "    ------------------------------------------------------------\n",
    "                                           Total:        32.4 MB\n",
    "\n",
    "The following NEW packages will be INSTALLED:\n",
    "\n",
    "  _libgcc_mutex      conda-forge/linux-64::_libgcc_mutex-0.1-conda_forge \n",
    "  _openmp_mutex      conda-forge/linux-64::_openmp_mutex-4.5-2_gnu \n",
    "  bzip2              conda-forge/linux-64::bzip2-1.0.8-hd590300_5 \n",
    "  ca-certificates    conda-forge/linux-64::ca-certificates-2023.11.17-hbcca054_0 \n",
    "  ld_impl_linux-64   conda-forge/linux-64::ld_impl_linux-64-2.40-h41732ed_0 \n",
    "  libexpat           conda-forge/linux-64::libexpat-2.5.0-hcb278e6_1 \n",
    "  libffi             conda-forge/linux-64::libffi-3.4.2-h7f98852_5 \n",
    "  libgcc-ng          conda-forge/linux-64::libgcc-ng-13.2.0-h807b86a_3 \n",
    "  libgomp            conda-forge/linux-64::libgomp-13.2.0-h807b86a_3 \n",
    "  libnsl             conda-forge/linux-64::libnsl-2.0.1-hd590300_0 \n",
    "  libsqlite          conda-forge/linux-64::libsqlite-3.44.2-h2797004_0 \n",
    "  libuuid            conda-forge/linux-64::libuuid-2.38.1-h0b41bf4_0 \n",
    "  libzlib            conda-forge/linux-64::libzlib-1.2.13-hd590300_5 \n",
    "  ncurses            conda-forge/linux-64::ncurses-6.4-h59595ed_2 \n",
    "  openssl            conda-forge/linux-64::openssl-3.2.0-hd590300_1 \n",
    "  pip                conda-forge/noarch::pip-23.3.1-pyhd8ed1ab_0 \n",
    "  python             conda-forge/linux-64::python-3.12.0-hab00c5b_0_cpython \n",
    "  readline           conda-forge/linux-64::readline-8.2-h8228510_1 \n",
    "  setuptools         conda-forge/noarch::setuptools-68.2.2-pyhd8ed1ab_0 \n",
    "  tk                 conda-forge/linux-64::tk-8.6.13-noxft_h4845f30_101 \n",
    "  tzdata             conda-forge/noarch::tzdata-2023c-h71feb2d_0 \n",
    "  wheel              conda-forge/noarch::wheel-0.42.0-pyhd8ed1ab_0 \n",
    "  xz                 conda-forge/linux-64::xz-5.2.6-h166bdaf_0 \n",
    "\n"
   ]
  },
  {
   "cell_type": "markdown",
   "metadata": {},
   "source": [
    "In this command, **myenv** is the **name** of the **new environment**, and **python=3.12** specifies the **Python version** for the **environment**."
   ]
  },
  {
   "cell_type": "markdown",
   "metadata": {},
   "source": [
    "After creating the new environment, you can activate it with:"
   ]
  },
  {
   "cell_type": "markdown",
   "metadata": {},
   "source": [
    "`conda activate myenv`"
   ]
  },
  {
   "cell_type": "markdown",
   "metadata": {},
   "source": [
    "And you can deactivate it (and return to the base environment) with:"
   ]
  },
  {
   "cell_type": "markdown",
   "metadata": {},
   "source": [
    "`conda deactivate`"
   ]
  },
  {
   "cell_type": "markdown",
   "metadata": {
    "jp-MarkdownHeadingCollapsed": true
   },
   "source": [
    "### <b>I want to export all the \"extra\" packages like \"pandas\" that I installed to my new environment"
   ]
  },
  {
   "cell_type": "markdown",
   "metadata": {},
   "source": [
    "#### <b> The usual list:"
   ]
  },
  {
   "cell_type": "markdown",
   "metadata": {},
   "source": [
    "`mamba install ruamel.yaml pandas numpy scikit-learn scipy matplotlib`"
   ]
  },
  {
   "cell_type": "markdown",
   "metadata": {},
   "source": [
    "`pip install requests comm fire ipython-genutils jupyter-contrib-core jupyter-nbextensions-configurator lxml nbclient opencv-python pdf2docx pexpect psutil pymupdf pymupdfb python-docx stack-data termcolor pytube`"
   ]
  },
  {
   "cell_type": "markdown",
   "metadata": {},
   "source": [
    "#### <b> The below version does not work great :( \n",
    "#### <b> But it is worth learning "
   ]
  },
  {
   "cell_type": "markdown",
   "metadata": {},
   "source": [
    "First, **export** the packages from your current environment (which may be “base” in your case) to a YAML file. Open the Anaconda prompt or your terminal and type the following command"
   ]
  },
  {
   "cell_type": "markdown",
   "metadata": {},
   "source": [
    "`conda env export --name base > base.yaml`"
   ]
  },
  {
   "cell_type": "markdown",
   "metadata": {},
   "source": [
    "This command will create a file named base.yaml that lists all the packages in your “base” environment.  \n",
    "<font color = red>Note:  \n",
    "It'll be created in the current directory of the terminal"
   ]
  },
  {
   "attachments": {
    "95db2ed8-8723-4c5d-9eed-6d4bfd608d26.png": {
     "image/png": "[encoded data removed]"
    }
   },
   "cell_type": "markdown",
   "metadata": {},
   "source": [
    "![image.png](attachment:95db2ed8-8723-4c5d-9eed-6d4bfd608d26.png)"
   ]
  },
  {
   "cell_type": "markdown",
   "metadata": {},
   "source": [
    "Next, **update** your **new environment** with the **packages listed** in the **base.yaml** file. Suppose your new environment is named “myenv”, you would use the following command1:"
   ]
  },
  {
   "cell_type": "markdown",
   "metadata": {},
   "source": [
    "`conda env update --name myenv --file base.yaml`"
   ]
  },
  {
   "cell_type": "markdown",
   "metadata": {
    "jp-MarkdownHeadingCollapsed": true
   },
   "source": [
    "### <b>Should I Deactivate base and then activate my new environment?"
   ]
  },
  {
   "cell_type": "markdown",
   "metadata": {},
   "source": [
    "No, you don’t need to deactivate the base environment before activating a new one. When you use the conda activate command to activate a new environment, Conda automatically deactivates the current environment.\n",
    "\n",
    "So, if you’re in the base environment and you want to switch to a new environment named “myenv”, you can simply type conda activate myenv. This will deactivate the base environment and activate \"myenv\".\n",
    "\n",
    "When you’re done with “myenv” and want to go back to the base environment, you can use conda deactivate. This will deactivate “myenv” and reactivate the base environment."
   ]
  },
  {
   "cell_type": "markdown",
   "metadata": {
    "jp-MarkdownHeadingCollapsed": true
   },
   "source": [
    "### <b>Do I have to download all the existing packages in the base environment to the new environment?"
   ]
  },
  {
   "cell_type": "markdown",
   "metadata": {},
   "source": [
    "Yes, that's correct. When you create a new Conda environment, it doesn't necessarily download new copies of every package. Instead, Conda uses a system of hard and soft links to share packages between environments¹². This helps to save disk space and reduce the time it takes to create new environments¹².\n",
    "\n",
    "However, each environment is still isolated from the others¹². This means that if you install a new package in one environment, or update a package in one environment, it won't affect the other environments¹². This is one of the main benefits of using Conda environments¹².\n",
    "\n",
    "\n",
    "1. Managing environments — conda 23.11.1.dev2 documentation. https://docs.conda.io/projects/conda/en/latest/user-guide/tasks/manage-environments.html.\n",
    "2. create anaconda python environment with all packages. https://stackoverflow.com/questions/38066873/create-anaconda-python-environment-with-all-packages.\n",
    "3. Can conda environment inherit base packages? - Stack Overflow. https://stackoverflow.com/questions/55222405/can-conda-environment-inherit-base-packages.\n",
    "4. Conda environments — conda 23.11.1.dev2 documentation. https://conda.io/docs/using/envs.html%23list-all-environments.\n",
    "5. conda install — conda 4.14.0 documentation. https://docs.conda.io/projects/conda/en/4.14.x/commands/install.html."
   ]
  },
  {
   "cell_type": "markdown",
   "metadata": {
    "jp-MarkdownHeadingCollapsed": true
   },
   "source": [
    "### <b> Changing kernels in Jupyter"
   ]
  },
  {
   "cell_type": "markdown",
   "metadata": {},
   "source": [
    "`conda install -c conda-forge nb_conda_kernels`"
   ]
  },
  {
   "cell_type": "markdown",
   "metadata": {},
   "source": [
    "Use the above extension"
   ]
  }
 ],
 "metadata": {
  "kernelspec": {
   "display_name": "Python [conda env:py312]",
   "language": "python",
   "name": "conda-env-py312-py"
  },
  "language_info": {
   "codemirror_mode": {
    "name": "ipython",
    "version": 3
   },
   "file_extension": ".py",
   "mimetype": "text/x-python",
   "name": "python",
   "nbconvert_exporter": "python",
   "pygments_lexer": "ipython3",
   "version": "3.12.0"
  }
 },
 "nbformat": 4,
 "nbformat_minor": 4
}
